{
 "cells": [
  {
   "cell_type": "code",
   "execution_count": 1,
   "metadata": {},
   "outputs": [],
   "source": [
    "import pandas as pd\n",
    "import numpy as np\n",
    "from sklearn.linear_model import LinearRegression"
   ]
  },
  {
   "cell_type": "markdown",
   "metadata": {},
   "source": [
    "# Reading data"
   ]
  },
  {
   "cell_type": "code",
   "execution_count": 2,
   "metadata": {
    "scrolled": false
   },
   "outputs": [
    {
     "data": {
      "text/html": [
       "<div>\n",
       "<style scoped>\n",
       "    .dataframe tbody tr th:only-of-type {\n",
       "        vertical-align: middle;\n",
       "    }\n",
       "\n",
       "    .dataframe tbody tr th {\n",
       "        vertical-align: top;\n",
       "    }\n",
       "\n",
       "    .dataframe thead th {\n",
       "        text-align: right;\n",
       "    }\n",
       "</style>\n",
       "<table border=\"1\" class=\"dataframe\">\n",
       "  <thead>\n",
       "    <tr style=\"text-align: right;\">\n",
       "      <th></th>\n",
       "      <th>Unnamed: 0</th>\n",
       "      <th>NO2</th>\n",
       "      <th>NO</th>\n",
       "      <th>NH3</th>\n",
       "      <th>slope0</th>\n",
       "      <th>slope1</th>\n",
       "      <th>slope2</th>\n",
       "      <th>slope3</th>\n",
       "      <th>slope4</th>\n",
       "      <th>slope5</th>\n",
       "      <th>...</th>\n",
       "      <th>avg40</th>\n",
       "      <th>avg41</th>\n",
       "      <th>avg42</th>\n",
       "      <th>avg43</th>\n",
       "      <th>avg44</th>\n",
       "      <th>avg45</th>\n",
       "      <th>avg46</th>\n",
       "      <th>avg47</th>\n",
       "      <th>avg48</th>\n",
       "      <th>avg49</th>\n",
       "    </tr>\n",
       "  </thead>\n",
       "  <tbody>\n",
       "    <tr>\n",
       "      <th>0</th>\n",
       "      <td>mix0</td>\n",
       "      <td>50</td>\n",
       "      <td>100</td>\n",
       "      <td>25</td>\n",
       "      <td>0.000261</td>\n",
       "      <td>0.000347</td>\n",
       "      <td>0.000378</td>\n",
       "      <td>0.000342</td>\n",
       "      <td>0.000255</td>\n",
       "      <td>0.000254</td>\n",
       "      <td>...</td>\n",
       "      <td>1.788009e-07</td>\n",
       "      <td>-0.000001</td>\n",
       "      <td>-1.270353e-06</td>\n",
       "      <td>-1.920155e-06</td>\n",
       "      <td>-1.117044e-06</td>\n",
       "      <td>-6.934313e-07</td>\n",
       "      <td>8.882652e-08</td>\n",
       "      <td>4.687770e-07</td>\n",
       "      <td>2.236791e-07</td>\n",
       "      <td>-1.484270e-07</td>\n",
       "    </tr>\n",
       "    <tr>\n",
       "      <th>1</th>\n",
       "      <td>mix1</td>\n",
       "      <td>100</td>\n",
       "      <td>25</td>\n",
       "      <td>100</td>\n",
       "      <td>0.000244</td>\n",
       "      <td>0.000334</td>\n",
       "      <td>0.000371</td>\n",
       "      <td>0.000342</td>\n",
       "      <td>0.000256</td>\n",
       "      <td>0.000257</td>\n",
       "      <td>...</td>\n",
       "      <td>-6.433617e-07</td>\n",
       "      <td>0.000002</td>\n",
       "      <td>2.373382e-06</td>\n",
       "      <td>1.108367e-06</td>\n",
       "      <td>1.701933e-06</td>\n",
       "      <td>7.345070e-07</td>\n",
       "      <td>-3.755813e-07</td>\n",
       "      <td>-6.079087e-08</td>\n",
       "      <td>-4.277830e-07</td>\n",
       "      <td>4.461413e-07</td>\n",
       "    </tr>\n",
       "    <tr>\n",
       "      <th>2</th>\n",
       "      <td>mix2</td>\n",
       "      <td>25</td>\n",
       "      <td>100</td>\n",
       "      <td>50</td>\n",
       "      <td>0.000258</td>\n",
       "      <td>0.000343</td>\n",
       "      <td>0.000374</td>\n",
       "      <td>0.000340</td>\n",
       "      <td>0.000256</td>\n",
       "      <td>0.000254</td>\n",
       "      <td>...</td>\n",
       "      <td>-3.621577e-06</td>\n",
       "      <td>-0.000003</td>\n",
       "      <td>-9.317178e-07</td>\n",
       "      <td>7.781265e-07</td>\n",
       "      <td>-3.612217e-08</td>\n",
       "      <td>-9.233391e-07</td>\n",
       "      <td>-1.310730e-07</td>\n",
       "      <td>5.655704e-07</td>\n",
       "      <td>6.936261e-08</td>\n",
       "      <td>-1.512365e-07</td>\n",
       "    </tr>\n",
       "    <tr>\n",
       "      <th>3</th>\n",
       "      <td>mix3</td>\n",
       "      <td>50</td>\n",
       "      <td>25</td>\n",
       "      <td>100</td>\n",
       "      <td>0.000249</td>\n",
       "      <td>0.000341</td>\n",
       "      <td>0.000375</td>\n",
       "      <td>0.000341</td>\n",
       "      <td>0.000261</td>\n",
       "      <td>0.000261</td>\n",
       "      <td>...</td>\n",
       "      <td>2.510960e-06</td>\n",
       "      <td>0.000003</td>\n",
       "      <td>1.811447e-06</td>\n",
       "      <td>7.319652e-08</td>\n",
       "      <td>4.306713e-07</td>\n",
       "      <td>6.000130e-08</td>\n",
       "      <td>-3.678943e-07</td>\n",
       "      <td>4.973391e-08</td>\n",
       "      <td>-5.947913e-08</td>\n",
       "      <td>-2.831873e-06</td>\n",
       "    </tr>\n",
       "    <tr>\n",
       "      <th>4</th>\n",
       "      <td>mix4</td>\n",
       "      <td>100</td>\n",
       "      <td>100</td>\n",
       "      <td>25</td>\n",
       "      <td>0.000256</td>\n",
       "      <td>0.000340</td>\n",
       "      <td>0.000371</td>\n",
       "      <td>0.000332</td>\n",
       "      <td>0.000252</td>\n",
       "      <td>0.000251</td>\n",
       "      <td>...</td>\n",
       "      <td>3.064678e-06</td>\n",
       "      <td>0.000003</td>\n",
       "      <td>9.766817e-07</td>\n",
       "      <td>-7.697217e-07</td>\n",
       "      <td>-3.745022e-07</td>\n",
       "      <td>-4.271674e-07</td>\n",
       "      <td>4.307696e-08</td>\n",
       "      <td>-7.368087e-08</td>\n",
       "      <td>-2.749222e-07</td>\n",
       "      <td>-2.755930e-06</td>\n",
       "    </tr>\n",
       "  </tbody>\n",
       "</table>\n",
       "<p>5 rows × 104 columns</p>\n",
       "</div>"
      ],
      "text/plain": [
       "  Unnamed: 0  NO2   NO  NH3    slope0    slope1    slope2    slope3    slope4  \\\n",
       "0       mix0   50  100   25  0.000261  0.000347  0.000378  0.000342  0.000255   \n",
       "1       mix1  100   25  100  0.000244  0.000334  0.000371  0.000342  0.000256   \n",
       "2       mix2   25  100   50  0.000258  0.000343  0.000374  0.000340  0.000256   \n",
       "3       mix3   50   25  100  0.000249  0.000341  0.000375  0.000341  0.000261   \n",
       "4       mix4  100  100   25  0.000256  0.000340  0.000371  0.000332  0.000252   \n",
       "\n",
       "     slope5  ...         avg40     avg41         avg42         avg43  \\\n",
       "0  0.000254  ...  1.788009e-07 -0.000001 -1.270353e-06 -1.920155e-06   \n",
       "1  0.000257  ... -6.433617e-07  0.000002  2.373382e-06  1.108367e-06   \n",
       "2  0.000254  ... -3.621577e-06 -0.000003 -9.317178e-07  7.781265e-07   \n",
       "3  0.000261  ...  2.510960e-06  0.000003  1.811447e-06  7.319652e-08   \n",
       "4  0.000251  ...  3.064678e-06  0.000003  9.766817e-07 -7.697217e-07   \n",
       "\n",
       "          avg44         avg45         avg46         avg47         avg48  \\\n",
       "0 -1.117044e-06 -6.934313e-07  8.882652e-08  4.687770e-07  2.236791e-07   \n",
       "1  1.701933e-06  7.345070e-07 -3.755813e-07 -6.079087e-08 -4.277830e-07   \n",
       "2 -3.612217e-08 -9.233391e-07 -1.310730e-07  5.655704e-07  6.936261e-08   \n",
       "3  4.306713e-07  6.000130e-08 -3.678943e-07  4.973391e-08 -5.947913e-08   \n",
       "4 -3.745022e-07 -4.271674e-07  4.307696e-08 -7.368087e-08 -2.749222e-07   \n",
       "\n",
       "          avg49  \n",
       "0 -1.484270e-07  \n",
       "1  4.461413e-07  \n",
       "2 -1.512365e-07  \n",
       "3 -2.831873e-06  \n",
       "4 -2.755930e-06  \n",
       "\n",
       "[5 rows x 104 columns]"
      ]
     },
     "execution_count": 2,
     "metadata": {},
     "output_type": "execute_result"
    }
   ],
   "source": [
    "# Reading data\n",
    "dummy = pd.read_csv('../data/dummy.csv')\n",
    "dummy.head()"
   ]
  },
  {
   "cell_type": "markdown",
   "metadata": {},
   "source": [
    "# Linear Regression"
   ]
  },
  {
   "cell_type": "code",
   "execution_count": 3,
   "metadata": {},
   "outputs": [],
   "source": [
    "# Dependent Variables - gas concentrations\n",
    "y = np.asarray(dummy.iloc[:, 1:4])\n",
    "\n",
    "# Independent variables - shape features\n",
    "X = np.asarray(dummy.iloc[:, 4:])"
   ]
  },
  {
   "cell_type": "code",
   "execution_count": 4,
   "metadata": {},
   "outputs": [],
   "source": [
    "# Train test split\n",
    "from sklearn.model_selection import train_test_split\n",
    "from sklearn.preprocessing import StandardScaler\n",
    "\n",
    "X_train, X_test, y_train, y_test = train_test_split(X, y, test_size=0.20, random_state=42)"
   ]
  },
  {
   "cell_type": "code",
   "execution_count": 5,
   "metadata": {},
   "outputs": [],
   "source": [
    "steps = [('scaler', StandardScaler()),\n",
    "         ('linreg', LinearRegression())]\n",
    "\n",
    "from sklearn.pipeline import Pipeline\n",
    "\n",
    "lr_pipe = Pipeline(steps)\n",
    "lr_pipe.fit(X_train, y_train)\n",
    "y_pred = lr_pipe.predict(X_test)"
   ]
  },
  {
   "cell_type": "code",
   "execution_count": 6,
   "metadata": {
    "scrolled": true
   },
   "outputs": [
    {
     "data": {
      "text/plain": [
       "77.42353912076364"
      ]
     },
     "execution_count": 6,
     "metadata": {},
     "output_type": "execute_result"
    }
   ],
   "source": [
    "from sklearn.metrics import mean_squared_error\n",
    "mean_squared_error(y_test, y_pred, squared = False)"
   ]
  },
  {
   "cell_type": "markdown",
   "metadata": {},
   "source": [
    "# Principal Components Regression - PCR"
   ]
  },
  {
   "cell_type": "code",
   "execution_count": 7,
   "metadata": {},
   "outputs": [
    {
     "name": "stdout",
     "output_type": "stream",
     "text": [
      "{'PCA__n_components': 2}\n",
      "-25.99983606209036\n"
     ]
    },
    {
     "data": {
      "text/plain": [
       "29.71710490312427"
      ]
     },
     "execution_count": 7,
     "metadata": {},
     "output_type": "execute_result"
    }
   ],
   "source": [
    "from sklearn.model_selection import GridSearchCV\n",
    "from sklearn.decomposition import PCA\n",
    "\n",
    "steps = [('scaler', StandardScaler()),\n",
    "         ('PCA', PCA()),\n",
    "         ('linreg', LinearRegression())]\n",
    "\n",
    "params = [{'PCA__n_components':list(range(1,14))}]\n",
    "\n",
    "scores = ['r2', 'neg_mean_absolute_error']\n",
    "\n",
    "pcr_pipe = Pipeline(steps)\n",
    "\n",
    "search = GridSearchCV(pcr_pipe, params, scoring = scores, n_jobs = -1, refit = 'neg_mean_absolute_error')\n",
    "search.fit(X_train, y_train)\n",
    "print(search.best_params_)\n",
    "print(search.best_score_)\n",
    "\n",
    "\n",
    "y_pred = search.predict(X_test)\n",
    "mean_squared_error(y_test, y_pred, squared = False)"
   ]
  },
  {
   "cell_type": "code",
   "execution_count": 8,
   "metadata": {
    "scrolled": true
   },
   "outputs": [
    {
     "data": {
      "text/plain": [
       "{'mean_fit_time': array([0.00411854, 0.00272102, 0.00246658, 0.00347152, 0.00342054,\n",
       "        0.00214963, 0.00246806, 0.00224137, 0.00177698, 0.00169916,\n",
       "        0.00153499, 0.00144558, 0.00168414]),\n",
       " 'std_fit_time': array([1.48344309e-03, 2.32620080e-04, 4.44340895e-04, 2.05463340e-03,\n",
       "        1.69836734e-03, 4.53831253e-05, 2.05423274e-04, 2.43447435e-04,\n",
       "        2.04218305e-04, 1.84003137e-04, 1.02781074e-04, 1.41351891e-04,\n",
       "        3.60038497e-04]),\n",
       " 'mean_score_time': array([0.00135465, 0.00120473, 0.0011158 , 0.00161815, 0.00157986,\n",
       "        0.00105753, 0.00117159, 0.00113301, 0.00085473, 0.00080762,\n",
       "        0.00074363, 0.00073094, 0.00081186]),\n",
       " 'std_score_time': array([2.34525627e-04, 1.13324943e-04, 6.10642066e-05, 1.05965047e-03,\n",
       "        7.48482154e-04, 2.46892080e-05, 1.69667680e-04, 1.18286798e-04,\n",
       "        1.56725646e-04, 1.08341411e-04, 1.11553910e-04, 1.07475901e-04,\n",
       "        2.42237425e-04]),\n",
       " 'param_PCA__n_components': masked_array(data=[1, 2, 3, 4, 5, 6, 7, 8, 9, 10, 11, 12, 13],\n",
       "              mask=[False, False, False, False, False, False, False, False,\n",
       "                    False, False, False, False, False],\n",
       "        fill_value='?',\n",
       "             dtype=object),\n",
       " 'params': [{'PCA__n_components': 1},\n",
       "  {'PCA__n_components': 2},\n",
       "  {'PCA__n_components': 3},\n",
       "  {'PCA__n_components': 4},\n",
       "  {'PCA__n_components': 5},\n",
       "  {'PCA__n_components': 6},\n",
       "  {'PCA__n_components': 7},\n",
       "  {'PCA__n_components': 8},\n",
       "  {'PCA__n_components': 9},\n",
       "  {'PCA__n_components': 10},\n",
       "  {'PCA__n_components': 11},\n",
       "  {'PCA__n_components': 12},\n",
       "  {'PCA__n_components': 13}],\n",
       " 'split0_test_r2': array([-0.44103016, -0.26899848, -0.31777625, -3.35441905, -4.0517944 ,\n",
       "        -4.04338803, -4.07314344, -4.00799758, -6.32222092, -6.50970006,\n",
       "        -3.23037819, -1.55136267, -8.58044591]),\n",
       " 'split1_test_r2': array([-3.12767481, -0.9436564 , -1.04401451, -1.29044198, -1.20931018,\n",
       "        -1.21089729, -1.38780234, -1.42755158, -3.7387617 , -6.07004611,\n",
       "        -6.26501948, -8.17382698, -9.44257857]),\n",
       " 'split2_test_r2': array([ -2.35180714,  -0.96539093,  -2.34803764,  -3.05618538,\n",
       "         -2.96019137,  -4.0538491 ,  -5.58622046,  -9.7316751 ,\n",
       "        -11.35178472, -21.04567672, -27.0366633 , -27.50596293,\n",
       "        -21.42993578]),\n",
       " 'split3_test_r2': array([-0.25539463,  0.04223854,  0.11872776, -0.12358196, -0.14788696,\n",
       "        -0.03501013, -0.03297405, -0.35027146, -0.54732692, -0.54404008,\n",
       "        -2.67188375, -2.58894213, -2.78224228]),\n",
       " 'split4_test_r2': array([ 0.12034442, -0.0256212 ,  0.05175759,  0.03904579,  0.06527398,\n",
       "        -0.02855594, -0.05018288, -0.04139784, -0.35882668, -0.36287446,\n",
       "        -0.44106722, -0.81314473, -0.8100205 ]),\n",
       " 'mean_test_r2': array([-1.21111246, -0.43228569, -0.70786861, -1.55711652, -1.66078178,\n",
       "        -1.8743401 , -2.22606463, -3.11177871, -4.46378419, -6.90646749,\n",
       "        -7.92900239, -8.12664789, -8.60904461]),\n",
       " 'std_test_r2': array([ 1.2848032 ,  0.43884238,  0.91821719,  1.42487716,  1.60482725,\n",
       "         1.8267588 ,  2.23379223,  3.59210296,  4.08933515,  7.53755073,\n",
       "         9.73298601, 10.02943634,  7.20898397]),\n",
       " 'rank_test_r2': array([ 3,  1,  2,  4,  5,  6,  7,  8,  9, 10, 11, 12, 13], dtype=int32),\n",
       " 'split0_test_neg_mean_absolute_error': array([-31.63247907, -26.81944527, -25.41224299, -41.09302094,\n",
       "        -42.29831616, -42.54103655, -42.60684526, -43.90910991,\n",
       "        -53.88599375, -54.46044661, -48.15337261, -39.27308169,\n",
       "        -54.47513063]),\n",
       " 'split1_test_neg_mean_absolute_error': array([-31.3136774 , -27.96584633, -28.55867217, -29.5363155 ,\n",
       "        -29.60928253, -29.83543301, -32.1542916 , -32.48095508,\n",
       "        -38.53554795, -45.35634577, -47.58093952, -52.05754846,\n",
       "        -55.91059724]),\n",
       " 'split2_test_neg_mean_absolute_error': array([-21.35182209, -13.39442587, -14.48501684, -16.02812592,\n",
       "        -15.54182516, -18.07117049, -20.14561962, -26.64987023,\n",
       "        -30.71921738, -39.94529081, -40.92407684, -41.27269184,\n",
       "        -37.4149739 ]),\n",
       " 'split3_test_neg_mean_absolute_error': array([-34.73855805, -25.40791498, -24.65184493, -27.42829391,\n",
       "        -27.90540944, -26.66318087, -26.77104617, -31.12629726,\n",
       "        -32.08760057, -32.5732648 , -50.5225911 , -49.33604608,\n",
       "        -49.54904461]),\n",
       " 'split4_test_neg_mean_absolute_error': array([-34.83063025, -36.41154786, -36.89989115, -37.17854788,\n",
       "        -36.91680683, -38.85412741, -39.03050692, -39.40994742,\n",
       "        -42.56844009, -40.11471721, -39.29122906, -43.35444815,\n",
       "        -41.20594308]),\n",
       " 'mean_test_neg_mean_absolute_error': array([-30.77343337, -25.99983606, -26.00153362, -30.25286083,\n",
       "        -30.45432802, -31.19298967, -32.14166191, -34.71523598,\n",
       "        -39.55935995, -42.49001304, -45.29444182, -45.05876324,\n",
       "        -47.71113789]),\n",
       " 'std_test_neg_mean_absolute_error': array([4.93922347, 7.3781764 , 7.21265882, 8.67535488, 9.07345047,\n",
       "        8.74088629, 8.12065209, 6.15613922, 8.35859437, 7.23832412,\n",
       "        4.37889838, 4.85780363, 7.27583926]),\n",
       " 'rank_test_neg_mean_absolute_error': array([ 5,  1,  2,  3,  4,  6,  7,  8,  9, 10, 12, 11, 13], dtype=int32)}"
      ]
     },
     "execution_count": 8,
     "metadata": {},
     "output_type": "execute_result"
    }
   ],
   "source": [
    "search.cv_results_"
   ]
  },
  {
   "cell_type": "markdown",
   "metadata": {},
   "source": [
    "# Partial Least Squares Regression - PLSR"
   ]
  },
  {
   "cell_type": "code",
   "execution_count": 9,
   "metadata": {},
   "outputs": [
    {
     "name": "stdout",
     "output_type": "stream",
     "text": [
      "{'PLSR__n_components': 2}\n",
      "-25.367570152904737\n"
     ]
    },
    {
     "data": {
      "text/plain": [
       "28.111505285999964"
      ]
     },
     "execution_count": 9,
     "metadata": {},
     "output_type": "execute_result"
    }
   ],
   "source": [
    "from sklearn.cross_decomposition import PLSRegression\n",
    "\n",
    "steps = [('PLSR', PLSRegression())]\n",
    "\n",
    "params = [{'PLSR__n_components':list(range(1,14))}]\n",
    "\n",
    "scores = ['r2', 'neg_mean_absolute_error']\n",
    "\n",
    "plsr_pipe = Pipeline(steps)\n",
    "\n",
    "search = GridSearchCV(plsr_pipe, params, scoring = scores, n_jobs = -1, refit = 'neg_mean_absolute_error')\n",
    "search.fit(X_train, y_train)\n",
    "print(search.best_params_)\n",
    "print(search.best_score_)\n",
    "\n",
    "y_pred = search.predict(X_test)\n",
    "mean_squared_error(y_test, y_pred, squared = False)"
   ]
  },
  {
   "cell_type": "code",
   "execution_count": 10,
   "metadata": {
    "scrolled": true
   },
   "outputs": [
    {
     "data": {
      "text/plain": [
       "{'mean_fit_time': array([0.00155435, 0.00208187, 0.00233078, 0.00344887, 0.00470395,\n",
       "        0.00488658, 0.00583682, 0.00682616, 0.00789046, 0.00822105,\n",
       "        0.00908585, 0.00985637, 0.01009388]),\n",
       " 'std_fit_time': array([0.00020301, 0.00021921, 0.00033024, 0.00057765, 0.00029189,\n",
       "        0.00047359, 0.00047067, 0.00039213, 0.00032242, 0.00056675,\n",
       "        0.00050602, 0.00092421, 0.00114737]),\n",
       " 'mean_score_time': array([0.00075722, 0.00069137, 0.00064077, 0.0007967 , 0.00080042,\n",
       "        0.00076809, 0.00078092, 0.00081439, 0.0008378 , 0.00085692,\n",
       "        0.00083137, 0.00084472, 0.00073357]),\n",
       " 'std_score_time': array([9.83285163e-05, 9.86469253e-05, 9.43454100e-05, 1.11169406e-04,\n",
       "        6.96424547e-05, 9.60234017e-05, 6.89557642e-05, 6.09188910e-05,\n",
       "        8.34049394e-05, 2.96255208e-05, 6.06901506e-05, 7.80093058e-05,\n",
       "        1.43296778e-04]),\n",
       " 'param_PLSR__n_components': masked_array(data=[1, 2, 3, 4, 5, 6, 7, 8, 9, 10, 11, 12, 13],\n",
       "              mask=[False, False, False, False, False, False, False, False,\n",
       "                    False, False, False, False, False],\n",
       "        fill_value='?',\n",
       "             dtype=object),\n",
       " 'params': [{'PLSR__n_components': 1},\n",
       "  {'PLSR__n_components': 2},\n",
       "  {'PLSR__n_components': 3},\n",
       "  {'PLSR__n_components': 4},\n",
       "  {'PLSR__n_components': 5},\n",
       "  {'PLSR__n_components': 6},\n",
       "  {'PLSR__n_components': 7},\n",
       "  {'PLSR__n_components': 8},\n",
       "  {'PLSR__n_components': 9},\n",
       "  {'PLSR__n_components': 10},\n",
       "  {'PLSR__n_components': 11},\n",
       "  {'PLSR__n_components': 12},\n",
       "  {'PLSR__n_components': 13}],\n",
       " 'split0_test_r2': array([-0.03267376, -0.63605746, -4.25129568, -4.58442338, -4.68400901,\n",
       "        -4.74375325, -5.11638203, -4.46915012, -2.11553161, -3.39427484,\n",
       "        -5.98239241, -4.68503398, -2.03941851]),\n",
       " 'split1_test_r2': array([-1.31866386, -0.9506596 , -1.24301097, -2.11795977, -3.16301311,\n",
       "        -4.00951986, -4.39119713, -4.3869786 , -5.05212443, -3.33377832,\n",
       "        -3.4405023 , -4.94364006, -4.27193167]),\n",
       " 'split2_test_r2': array([ -1.94778813,  -1.3603801 ,  -3.82491957, -11.15497756,\n",
       "        -11.18079484, -18.57416355, -20.00406437, -21.6382421 ,\n",
       "        -24.38399461, -26.42232175, -27.4029248 , -27.25922244,\n",
       "        -25.3778372 ]),\n",
       " 'split3_test_r2': array([ 0.02004678,  0.0937399 ,  0.06075179, -0.35860722, -0.13229889,\n",
       "        -0.8450845 , -1.43706365, -1.57372406, -1.69560883, -2.23691379,\n",
       "        -3.60491791, -2.52807559, -2.86693162]),\n",
       " 'split4_test_r2': array([ 0.05580718,  0.02320127,  0.053107  ,  0.04033129, -0.11344251,\n",
       "        -0.45897   , -0.63120901, -0.59727323, -0.93063292, -0.98597888,\n",
       "        -0.42172641, -0.38638424, -0.55281643]),\n",
       " 'mean_test_r2': array([-0.64465436, -0.5660312 , -1.84107349, -3.63512733, -3.85471167,\n",
       "        -5.72629823, -6.31598324, -6.53307362, -6.83557848, -7.27465352,\n",
       "        -8.17049277, -7.96047126, -7.02178709]),\n",
       " 'std_test_r2': array([0.83179813, 0.55970093, 1.86050284, 4.0986751 , 4.06672171,\n",
       "        6.64155645, 7.05163703, 7.70532923, 8.88475244, 9.61402397,\n",
       "        9.7768593 , 9.78927243, 9.25678867]),\n",
       " 'rank_test_r2': array([ 2,  1,  3,  4,  5,  6,  7,  8,  9, 11, 13, 12, 10], dtype=int32),\n",
       " 'split0_test_neg_mean_absolute_error': array([-26.1498856 , -29.26814447, -42.40831771, -46.8299675 ,\n",
       "        -48.25948541, -49.52897966, -50.51731103, -48.97289404,\n",
       "        -40.73833082, -41.24362128, -47.46661535, -41.44360096,\n",
       "        -39.88577303]),\n",
       " 'split1_test_neg_mean_absolute_error': array([-26.72178195, -27.28978887, -30.28302588, -34.97079852,\n",
       "        -39.0045134 , -40.42198867, -41.67163164, -41.74303933,\n",
       "        -45.6386658 , -41.19139251, -41.34138135, -45.82572159,\n",
       "        -41.73721205]),\n",
       " 'split2_test_neg_mean_absolute_error': array([-15.62693748, -12.43177747, -17.36796795, -31.72443969,\n",
       "        -31.57176903, -35.89296335, -37.65711793, -39.23846902,\n",
       "        -40.20329201, -40.58487805, -43.05294389, -42.7050657 ,\n",
       "        -46.48718042]),\n",
       " 'split3_test_neg_mean_absolute_error': array([-30.4349915 , -22.24825634, -23.71329356, -30.03659049,\n",
       "        -28.27348331, -36.82532275, -40.3542279 , -41.48287273,\n",
       "        -42.59561335, -47.22871179, -57.23203063, -47.5741821 ,\n",
       "        -50.3294031 ]),\n",
       " 'split4_test_neg_mean_absolute_error': array([-35.81727832, -35.59988362, -37.87654074, -38.22839391,\n",
       "        -39.39114155, -41.91523893, -42.97061166, -42.21476715,\n",
       "        -47.099172  , -49.3405185 , -48.94314493, -49.43154379,\n",
       "        -48.5988198 ]),\n",
       " 'mean_test_neg_mean_absolute_error': array([-26.95017497, -25.36757015, -30.32982917, -36.35803802,\n",
       "        -37.30007854, -40.91689867, -42.63418003, -42.73040846,\n",
       "        -43.2550148 , -43.91782443, -47.60722323, -45.39602283,\n",
       "        -45.40767768]),\n",
       " 'std_test_neg_mean_absolute_error': array([6.62839048, 7.75466949, 9.10640787, 5.94163116, 6.95239805,\n",
       "        4.84542006, 4.31631252, 3.28509959, 2.70336299, 3.63485656,\n",
       "        5.55776231, 2.96908529, 3.98837922]),\n",
       " 'rank_test_neg_mean_absolute_error': array([ 2,  1,  3,  4,  5,  6,  7,  8,  9, 10, 13, 11, 12], dtype=int32)}"
      ]
     },
     "execution_count": 10,
     "metadata": {},
     "output_type": "execute_result"
    }
   ],
   "source": [
    "search.cv_results_"
   ]
  },
  {
   "cell_type": "code",
   "execution_count": 11,
   "metadata": {},
   "outputs": [
    {
     "ename": "NameError",
     "evalue": "name 'DecisionTreeRegressor' is not defined",
     "output_type": "error",
     "traceback": [
      "\u001b[0;31m---------------------------------------------------------------------------\u001b[0m",
      "\u001b[0;31mNameError\u001b[0m                                 Traceback (most recent call last)",
      "\u001b[0;32m<ipython-input-11-700ced72f25f>\u001b[0m in \u001b[0;36m<module>\u001b[0;34m\u001b[0m\n\u001b[1;32m      1\u001b[0m \u001b[0;31m# define model\u001b[0m\u001b[0;34m\u001b[0m\u001b[0;34m\u001b[0m\u001b[0;34m\u001b[0m\u001b[0m\n\u001b[0;32m----> 2\u001b[0;31m \u001b[0mmodel\u001b[0m \u001b[0;34m=\u001b[0m \u001b[0mDecisionTreeRegressor\u001b[0m\u001b[0;34m(\u001b[0m\u001b[0;34m)\u001b[0m\u001b[0;34m\u001b[0m\u001b[0;34m\u001b[0m\u001b[0m\n\u001b[0m\u001b[1;32m      3\u001b[0m \u001b[0;31m# define the evaluation procedure\u001b[0m\u001b[0;34m\u001b[0m\u001b[0;34m\u001b[0m\u001b[0;34m\u001b[0m\u001b[0m\n\u001b[1;32m      4\u001b[0m \u001b[0mcv\u001b[0m \u001b[0;34m=\u001b[0m \u001b[0mRepeatedKFold\u001b[0m\u001b[0;34m(\u001b[0m\u001b[0mn_splits\u001b[0m\u001b[0;34m=\u001b[0m\u001b[0;36m10\u001b[0m\u001b[0;34m,\u001b[0m \u001b[0mn_repeats\u001b[0m\u001b[0;34m=\u001b[0m\u001b[0;36m3\u001b[0m\u001b[0;34m,\u001b[0m \u001b[0mrandom_state\u001b[0m\u001b[0;34m=\u001b[0m\u001b[0;36m1\u001b[0m\u001b[0;34m)\u001b[0m\u001b[0;34m\u001b[0m\u001b[0;34m\u001b[0m\u001b[0m\n\u001b[1;32m      5\u001b[0m \u001b[0;31m# evaluate the model and collect the scores\u001b[0m\u001b[0;34m\u001b[0m\u001b[0;34m\u001b[0m\u001b[0;34m\u001b[0m\u001b[0m\n",
      "\u001b[0;31mNameError\u001b[0m: name 'DecisionTreeRegressor' is not defined"
     ]
    }
   ],
   "source": [
    "# define model\n",
    "model = DecisionTreeRegressor()\n",
    "# define the evaluation procedure\n",
    "cv = RepeatedKFold(n_splits=10, n_repeats=3, random_state=1)\n",
    "# evaluate the model and collect the scores\n",
    "n_scores = cross_val_score(model, X, y, scoring='neg_mean_absolute_error', cv=cv, n_jobs=-1)\n",
    "# force the scores to be positive\n",
    "n_scores = absolute(n_scores)\n",
    "# summarize performance\n",
    "print('MAE: %.3f (%.3f)' % (mean(n_scores), std(n_scores)))"
   ]
  }
 ],
 "metadata": {
  "kernelspec": {
   "display_name": "Python 3",
   "language": "python",
   "name": "python3"
  },
  "language_info": {
   "codemirror_mode": {
    "name": "ipython",
    "version": 3
   },
   "file_extension": ".py",
   "mimetype": "text/x-python",
   "name": "python",
   "nbconvert_exporter": "python",
   "pygments_lexer": "ipython3",
   "version": "3.7.9"
  }
 },
 "nbformat": 4,
 "nbformat_minor": 4
}
